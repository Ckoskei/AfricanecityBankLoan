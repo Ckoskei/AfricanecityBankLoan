{
 "cells": [
  {
   "cell_type": "markdown",
   "id": "2f120dce",
   "metadata": {
    "papermill": {
     "duration": 0.0039,
     "end_time": "2023-10-11T04:15:52.771902",
     "exception": false,
     "start_time": "2023-10-11T04:15:52.768002",
     "status": "completed"
    },
    "tags": []
   },
   "source": [
    "**This notebook is an exercise in the [Introduction to Machine Learning](https://www.kaggle.com/learn/intro-to-machine-learning) course.  You can reference the tutorial at [this link](https://www.kaggle.com/dansbecker/model-validation).**\n",
    "\n",
    "---\n"
   ]
  },
  {
   "cell_type": "markdown",
   "id": "90d86feb",
   "metadata": {
    "papermill": {
     "duration": 0.003194,
     "end_time": "2023-10-11T04:15:52.780697",
     "exception": false,
     "start_time": "2023-10-11T04:15:52.777503",
     "status": "completed"
    },
    "tags": []
   },
   "source": [
    "## Recap\n",
    "You've built a model. In this exercise you will test how good your model is.\n",
    "\n",
    "Run the cell below to set up your coding environment where the previous exercise left off."
   ]
  },
  {
   "cell_type": "code",
   "execution_count": 1,
   "id": "5f7914db",
   "metadata": {
    "execution": {
     "iopub.execute_input": "2023-10-11T04:15:52.789592Z",
     "iopub.status.busy": "2023-10-11T04:15:52.788857Z",
     "iopub.status.idle": "2023-10-11T04:15:55.229280Z",
     "shell.execute_reply": "2023-10-11T04:15:55.228047Z"
    },
    "papermill": {
     "duration": 2.447615,
     "end_time": "2023-10-11T04:15:55.231703",
     "exception": false,
     "start_time": "2023-10-11T04:15:52.784088",
     "status": "completed"
    },
    "tags": []
   },
   "outputs": [
    {
     "name": "stdout",
     "output_type": "stream",
     "text": [
      "First in-sample predictions: [208500. 181500. 223500. 140000. 250000.]\n",
      "Actual target values for those homes: [208500, 181500, 223500, 140000, 250000]\n",
      "Setup Complete\n"
     ]
    }
   ],
   "source": [
    "# Code you have previously used to load data\n",
    "import pandas as pd\n",
    "from sklearn.tree import DecisionTreeRegressor\n",
    "\n",
    "# Path of the file to read\n",
    "iowa_file_path = '../input/home-data-for-ml-course/train.csv'\n",
    "\n",
    "home_data = pd.read_csv(iowa_file_path)\n",
    "y = home_data.SalePrice\n",
    "feature_columns = ['LotArea', 'YearBuilt', '1stFlrSF', '2ndFlrSF', 'FullBath', 'BedroomAbvGr', 'TotRmsAbvGrd']\n",
    "X = home_data[feature_columns]\n",
    "\n",
    "# Specify Model\n",
    "iowa_model = DecisionTreeRegressor()\n",
    "# Fit Model\n",
    "iowa_model.fit(X, y)\n",
    "\n",
    "print(\"First in-sample predictions:\", iowa_model.predict(X.head()))\n",
    "print(\"Actual target values for those homes:\", y.head().tolist())\n",
    "\n",
    "# Set up code checking\n",
    "from learntools.core import binder\n",
    "binder.bind(globals())\n",
    "from learntools.machine_learning.ex4 import *\n",
    "print(\"Setup Complete\")"
   ]
  },
  {
   "cell_type": "markdown",
   "id": "b4501573",
   "metadata": {
    "papermill": {
     "duration": 0.003333,
     "end_time": "2023-10-11T04:15:55.238883",
     "exception": false,
     "start_time": "2023-10-11T04:15:55.235550",
     "status": "completed"
    },
    "tags": []
   },
   "source": [
    "# Exercises\n",
    "\n",
    "## Step 1: Split Your Data\n",
    "Use the `train_test_split` function to split up your data.\n",
    "\n",
    "Give it the argument `random_state=1` so the `check` functions know what to expect when verifying your code.\n",
    "\n",
    "Recall, your features are loaded in the DataFrame **X** and your target is loaded in **y**.\n"
   ]
  },
  {
   "cell_type": "code",
   "execution_count": 2,
   "id": "4e4a292c",
   "metadata": {
    "execution": {
     "iopub.execute_input": "2023-10-11T04:15:55.247845Z",
     "iopub.status.busy": "2023-10-11T04:15:55.247188Z",
     "iopub.status.idle": "2023-10-11T04:15:55.257899Z",
     "shell.execute_reply": "2023-10-11T04:15:55.257189Z"
    },
    "papermill": {
     "duration": 0.017378,
     "end_time": "2023-10-11T04:15:55.259693",
     "exception": false,
     "start_time": "2023-10-11T04:15:55.242315",
     "status": "completed"
    },
    "tags": []
   },
   "outputs": [
    {
     "data": {
      "application/javascript": [
       "parent.postMessage({\"jupyterEvent\": \"custom.exercise_interaction\", \"data\": {\"outcomeType\": 1, \"valueTowardsCompletion\": 0.25, \"interactionType\": 1, \"questionType\": 2, \"questionId\": \"1_SplitData\", \"learnToolsVersion\": \"0.3.4\", \"failureMessage\": \"\", \"exceptionClass\": \"\", \"trace\": \"\"}}, \"*\")"
      ],
      "text/plain": [
       "<IPython.core.display.Javascript object>"
      ]
     },
     "metadata": {},
     "output_type": "display_data"
    },
    {
     "data": {
      "text/markdown": [
       "<span style=\"color:#33cc33\">Correct</span>"
      ],
      "text/plain": [
       "Correct"
      ]
     },
     "metadata": {},
     "output_type": "display_data"
    }
   ],
   "source": [
    "# Import the train_test_split function and uncomment\n",
    "from sklearn.model_selection import train_test_split\n",
    "\n",
    "# fill in and uncomment\n",
    "train_X, val_X, train_y, val_y = train_test_split(X, y, random_state=1)\n",
    "\n",
    "# Check your answer\n",
    "step_1.check()"
   ]
  },
  {
   "cell_type": "code",
   "execution_count": 3,
   "id": "0a6cb1d9",
   "metadata": {
    "execution": {
     "iopub.execute_input": "2023-10-11T04:15:55.269676Z",
     "iopub.status.busy": "2023-10-11T04:15:55.269010Z",
     "iopub.status.idle": "2023-10-11T04:15:55.275447Z",
     "shell.execute_reply": "2023-10-11T04:15:55.274570Z"
    },
    "papermill": {
     "duration": 0.01354,
     "end_time": "2023-10-11T04:15:55.277396",
     "exception": false,
     "start_time": "2023-10-11T04:15:55.263856",
     "status": "completed"
    },
    "tags": []
   },
   "outputs": [
    {
     "data": {
      "application/javascript": [
       "parent.postMessage({\"jupyterEvent\": \"custom.exercise_interaction\", \"data\": {\"interactionType\": 2, \"questionType\": 2, \"questionId\": \"1_SplitData\", \"learnToolsVersion\": \"0.3.4\", \"valueTowardsCompletion\": 0.0, \"failureMessage\": \"\", \"exceptionClass\": \"\", \"trace\": \"\", \"outcomeType\": 4}}, \"*\")"
      ],
      "text/plain": [
       "<IPython.core.display.Javascript object>"
      ]
     },
     "metadata": {},
     "output_type": "display_data"
    },
    {
     "data": {
      "text/markdown": [
       "<span style=\"color:#3366cc\">Hint:</span> The function you need to import is part of sklearn. When calling the function, the arguments are X and y. Ensure you set the random_state to 1."
      ],
      "text/plain": [
       "Hint: The function you need to import is part of sklearn. When calling the function, the arguments are X and y. Ensure you set the random_state to 1."
      ]
     },
     "metadata": {},
     "output_type": "display_data"
    }
   ],
   "source": [
    "# The lines below will show you a hint or the solution.\n",
    "step_1.hint() \n",
    "# step_1.solution()\n"
   ]
  },
  {
   "cell_type": "markdown",
   "id": "50e1f69a",
   "metadata": {
    "papermill": {
     "duration": 0.0037,
     "end_time": "2023-10-11T04:15:55.285142",
     "exception": false,
     "start_time": "2023-10-11T04:15:55.281442",
     "status": "completed"
    },
    "tags": []
   },
   "source": [
    "## Step 2: Specify and Fit the Model\n",
    "\n",
    "Create a `DecisionTreeRegressor` model and fit it to the relevant data.\n",
    "Set `random_state` to 1 again when creating the model."
   ]
  },
  {
   "cell_type": "code",
   "execution_count": 4,
   "id": "d97ef592",
   "metadata": {
    "execution": {
     "iopub.execute_input": "2023-10-11T04:15:55.295156Z",
     "iopub.status.busy": "2023-10-11T04:15:55.294523Z",
     "iopub.status.idle": "2023-10-11T04:15:55.323130Z",
     "shell.execute_reply": "2023-10-11T04:15:55.321980Z"
    },
    "papermill": {
     "duration": 0.036118,
     "end_time": "2023-10-11T04:15:55.325302",
     "exception": false,
     "start_time": "2023-10-11T04:15:55.289184",
     "status": "completed"
    },
    "tags": []
   },
   "outputs": [
    {
     "name": "stdout",
     "output_type": "stream",
     "text": [
      "[186500. 184000. 130000.  92000. 164500. 220000. 335000. 144152. 215000.\n",
      " 262000.]\n",
      "[186500. 184000. 130000.  92000. 164500. 220000. 335000. 144152. 215000.\n",
      " 262000.]\n"
     ]
    },
    {
     "data": {
      "application/javascript": [
       "parent.postMessage({\"jupyterEvent\": \"custom.exercise_interaction\", \"data\": {\"outcomeType\": 1, \"valueTowardsCompletion\": 0.25, \"interactionType\": 1, \"questionType\": 2, \"questionId\": \"2_FitModelWithTrain\", \"learnToolsVersion\": \"0.3.4\", \"failureMessage\": \"\", \"exceptionClass\": \"\", \"trace\": \"\"}}, \"*\")"
      ],
      "text/plain": [
       "<IPython.core.display.Javascript object>"
      ]
     },
     "metadata": {},
     "output_type": "display_data"
    },
    {
     "data": {
      "text/markdown": [
       "<span style=\"color:#33cc33\">Correct</span>"
      ],
      "text/plain": [
       "Correct"
      ]
     },
     "metadata": {},
     "output_type": "display_data"
    }
   ],
   "source": [
    "# You imported DecisionTreeRegressor in your last exercise\n",
    "# and that code has been copied to the setup code above. So, no need to\n",
    "# import it again\n",
    "\n",
    "# Specify the model\n",
    "iowa_model = DecisionTreeRegressor(random_state=1)\n",
    "\n",
    "# Fit iowa_model with the training data.\n",
    "iowa_model.fit(train_X, train_y)\n",
    "\n",
    "# Check your answer\n",
    "step_2.check()"
   ]
  },
  {
   "cell_type": "code",
   "execution_count": 5,
   "id": "c344087a",
   "metadata": {
    "execution": {
     "iopub.execute_input": "2023-10-11T04:15:55.335892Z",
     "iopub.status.busy": "2023-10-11T04:15:55.335221Z",
     "iopub.status.idle": "2023-10-11T04:15:55.339710Z",
     "shell.execute_reply": "2023-10-11T04:15:55.338788Z"
    },
    "papermill": {
     "duration": 0.01195,
     "end_time": "2023-10-11T04:15:55.341631",
     "exception": false,
     "start_time": "2023-10-11T04:15:55.329681",
     "status": "completed"
    },
    "tags": []
   },
   "outputs": [],
   "source": [
    "# step_2.hint()\n",
    "# step_2.solution()"
   ]
  },
  {
   "cell_type": "markdown",
   "id": "f5360e74",
   "metadata": {
    "papermill": {
     "duration": 0.004031,
     "end_time": "2023-10-11T04:15:55.349996",
     "exception": false,
     "start_time": "2023-10-11T04:15:55.345965",
     "status": "completed"
    },
    "tags": []
   },
   "source": [
    "## Step 3: Make Predictions with Validation data\n"
   ]
  },
  {
   "cell_type": "code",
   "execution_count": 6,
   "id": "eb0a5840",
   "metadata": {
    "execution": {
     "iopub.execute_input": "2023-10-11T04:15:55.360063Z",
     "iopub.status.busy": "2023-10-11T04:15:55.359716Z",
     "iopub.status.idle": "2023-10-11T04:15:55.372037Z",
     "shell.execute_reply": "2023-10-11T04:15:55.371283Z"
    },
    "papermill": {
     "duration": 0.019782,
     "end_time": "2023-10-11T04:15:55.374077",
     "exception": false,
     "start_time": "2023-10-11T04:15:55.354295",
     "status": "completed"
    },
    "tags": []
   },
   "outputs": [
    {
     "data": {
      "application/javascript": [
       "parent.postMessage({\"jupyterEvent\": \"custom.exercise_interaction\", \"data\": {\"outcomeType\": 1, \"valueTowardsCompletion\": 0.25, \"interactionType\": 1, \"questionType\": 2, \"questionId\": \"3_ValPreds\", \"learnToolsVersion\": \"0.3.4\", \"failureMessage\": \"\", \"exceptionClass\": \"\", \"trace\": \"\"}}, \"*\")"
      ],
      "text/plain": [
       "<IPython.core.display.Javascript object>"
      ]
     },
     "metadata": {},
     "output_type": "display_data"
    },
    {
     "data": {
      "text/markdown": [
       "<span style=\"color:#33cc33\">Correct</span>"
      ],
      "text/plain": [
       "Correct"
      ]
     },
     "metadata": {},
     "output_type": "display_data"
    }
   ],
   "source": [
    "# Predict with all validation observations\n",
    "val_predictions = iowa_model.predict(val_X)\n",
    "\n",
    "# Check your answer\n",
    "step_3.check()"
   ]
  },
  {
   "cell_type": "code",
   "execution_count": 7,
   "id": "e62a809f",
   "metadata": {
    "execution": {
     "iopub.execute_input": "2023-10-11T04:15:55.384465Z",
     "iopub.status.busy": "2023-10-11T04:15:55.384139Z",
     "iopub.status.idle": "2023-10-11T04:15:55.387945Z",
     "shell.execute_reply": "2023-10-11T04:15:55.386763Z"
    },
    "papermill": {
     "duration": 0.011344,
     "end_time": "2023-10-11T04:15:55.389886",
     "exception": false,
     "start_time": "2023-10-11T04:15:55.378542",
     "status": "completed"
    },
    "tags": []
   },
   "outputs": [],
   "source": [
    "# step_3.hint()\n",
    "# step_3.solution()"
   ]
  },
  {
   "cell_type": "markdown",
   "id": "6e6ea8ce",
   "metadata": {
    "papermill": {
     "duration": 0.004074,
     "end_time": "2023-10-11T04:15:55.398391",
     "exception": false,
     "start_time": "2023-10-11T04:15:55.394317",
     "status": "completed"
    },
    "tags": []
   },
   "source": [
    "Inspect your predictions and actual values from validation data."
   ]
  },
  {
   "cell_type": "code",
   "execution_count": 8,
   "id": "bbcaa6fa",
   "metadata": {
    "execution": {
     "iopub.execute_input": "2023-10-11T04:15:55.408653Z",
     "iopub.status.busy": "2023-10-11T04:15:55.408315Z",
     "iopub.status.idle": "2023-10-11T04:15:55.416603Z",
     "shell.execute_reply": "2023-10-11T04:15:55.415365Z"
    },
    "papermill": {
     "duration": 0.016063,
     "end_time": "2023-10-11T04:15:55.418747",
     "exception": false,
     "start_time": "2023-10-11T04:15:55.402684",
     "status": "completed"
    },
    "tags": []
   },
   "outputs": [
    {
     "name": "stdout",
     "output_type": "stream",
     "text": [
      "[186500. 184000. 130000.  92000. 164500.]\n",
      "258     231500\n",
      "267     179500\n",
      "288     122000\n",
      "649      84500\n",
      "1233    142000\n",
      "Name: SalePrice, dtype: int64\n"
     ]
    }
   ],
   "source": [
    "# print the top few validation predictions\n",
    "print(iowa_model.predict(val_X.head()))\n",
    "# print the top few actual prices from validation data\n",
    "print(val_y.head())"
   ]
  },
  {
   "cell_type": "markdown",
   "id": "6801ce0a",
   "metadata": {
    "papermill": {
     "duration": 0.004401,
     "end_time": "2023-10-11T04:15:55.427930",
     "exception": false,
     "start_time": "2023-10-11T04:15:55.423529",
     "status": "completed"
    },
    "tags": []
   },
   "source": [
    "What do you notice that is different from what you saw with in-sample predictions (which are printed after the top code cell in this page).\n",
    "\n",
    "Do you remember why validation predictions differ from in-sample (or training) predictions? This is an important idea from the last lesson.\n",
    "\n",
    "## Step 4: Calculate the Mean Absolute Error in Validation Data\n"
   ]
  },
  {
   "cell_type": "code",
   "execution_count": 9,
   "id": "7111c58e",
   "metadata": {
    "execution": {
     "iopub.execute_input": "2023-10-11T04:15:55.439413Z",
     "iopub.status.busy": "2023-10-11T04:15:55.438276Z",
     "iopub.status.idle": "2023-10-11T04:15:55.448768Z",
     "shell.execute_reply": "2023-10-11T04:15:55.447893Z"
    },
    "papermill": {
     "duration": 0.018066,
     "end_time": "2023-10-11T04:15:55.450557",
     "exception": false,
     "start_time": "2023-10-11T04:15:55.432491",
     "status": "completed"
    },
    "tags": []
   },
   "outputs": [
    {
     "name": "stdout",
     "output_type": "stream",
     "text": [
      "29652.931506849316\n"
     ]
    },
    {
     "data": {
      "application/javascript": [
       "parent.postMessage({\"jupyterEvent\": \"custom.exercise_interaction\", \"data\": {\"outcomeType\": 1, \"valueTowardsCompletion\": 0.25, \"interactionType\": 1, \"questionType\": 1, \"questionId\": \"4_MAE\", \"learnToolsVersion\": \"0.3.4\", \"failureMessage\": \"\", \"exceptionClass\": \"\", \"trace\": \"\"}}, \"*\")"
      ],
      "text/plain": [
       "<IPython.core.display.Javascript object>"
      ]
     },
     "metadata": {},
     "output_type": "display_data"
    },
    {
     "data": {
      "text/markdown": [
       "<span style=\"color:#33cc33\">Correct</span>"
      ],
      "text/plain": [
       "Correct"
      ]
     },
     "metadata": {},
     "output_type": "display_data"
    }
   ],
   "source": [
    "from sklearn.metrics import mean_absolute_error\n",
    "val_mae = mean_absolute_error(val_y, val_predictions)\n",
    "\n",
    "# uncomment following line to see the validation_mae\n",
    "print(val_mae)\n",
    "\n",
    "# Check your answer\n",
    "step_4.check()"
   ]
  },
  {
   "cell_type": "code",
   "execution_count": 10,
   "id": "a7436268",
   "metadata": {
    "execution": {
     "iopub.execute_input": "2023-10-11T04:15:55.461698Z",
     "iopub.status.busy": "2023-10-11T04:15:55.461386Z",
     "iopub.status.idle": "2023-10-11T04:15:55.465081Z",
     "shell.execute_reply": "2023-10-11T04:15:55.464127Z"
    },
    "papermill": {
     "duration": 0.011577,
     "end_time": "2023-10-11T04:15:55.466989",
     "exception": false,
     "start_time": "2023-10-11T04:15:55.455412",
     "status": "completed"
    },
    "tags": []
   },
   "outputs": [],
   "source": [
    "# step_4.hint()\n",
    "# step_4.solution()"
   ]
  },
  {
   "cell_type": "markdown",
   "id": "dda40a7e",
   "metadata": {
    "papermill": {
     "duration": 0.004522,
     "end_time": "2023-10-11T04:15:55.476371",
     "exception": false,
     "start_time": "2023-10-11T04:15:55.471849",
     "status": "completed"
    },
    "tags": []
   },
   "source": [
    "Is that MAE good?  There isn't a general rule for what values are good that applies across applications. But you'll see how to use (and improve) this number in the next step.\n",
    "\n",
    "# Keep Going\n",
    "\n",
    "You are ready for **[Underfitting and Overfitting](https://www.kaggle.com/dansbecker/underfitting-and-overfitting).**\n"
   ]
  },
  {
   "cell_type": "markdown",
   "id": "896f35e0",
   "metadata": {
    "papermill": {
     "duration": 0.004433,
     "end_time": "2023-10-11T04:15:55.485425",
     "exception": false,
     "start_time": "2023-10-11T04:15:55.480992",
     "status": "completed"
    },
    "tags": []
   },
   "source": [
    "---\n",
    "\n",
    "\n",
    "\n",
    "\n",
    "*Have questions or comments? Visit the [course discussion forum](https://www.kaggle.com/learn/intro-to-machine-learning/discussion) to chat with other learners.*"
   ]
  }
 ],
 "metadata": {
  "kernelspec": {
   "display_name": "Python 3",
   "language": "python",
   "name": "python3"
  },
  "language_info": {
   "codemirror_mode": {
    "name": "ipython",
    "version": 3
   },
   "file_extension": ".py",
   "mimetype": "text/x-python",
   "name": "python",
   "nbconvert_exporter": "python",
   "pygments_lexer": "ipython3",
   "version": "3.10.12"
  },
  "papermill": {
   "default_parameters": {},
   "duration": 7.41315,
   "end_time": "2023-10-11T04:15:56.115723",
   "environment_variables": {},
   "exception": null,
   "input_path": "__notebook__.ipynb",
   "output_path": "__notebook__.ipynb",
   "parameters": {},
   "start_time": "2023-10-11T04:15:48.702573",
   "version": "2.4.0"
  }
 },
 "nbformat": 4,
 "nbformat_minor": 5
}
